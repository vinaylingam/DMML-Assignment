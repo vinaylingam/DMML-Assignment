{
 "cells": [
  {
   "cell_type": "code",
   "execution_count": 1,
   "id": "5eda1c23-2da4-40e6-b260-5b561c5db088",
   "metadata": {},
   "outputs": [],
   "source": [
    "import tensorflow as tf\n",
    "from tensorflow import keras\n",
    "import sqlite3\n",
    "import pandas as pd\n",
    "from sklearn.model_selection import train_test_split\n",
    "from datetime import datetime\n",
    "import os\n",
    "from logger import Logger"
   ]
  },
  {
   "cell_type": "code",
   "execution_count": 2,
   "id": "302086f4-6b31-4496-b607-591da72ee53d",
   "metadata": {},
   "outputs": [],
   "source": [
    "logger = Logger('../9. Model Building/model_building.log')\n",
    "today = datetime.today().strftime(\"%Y\\\\%m\\\\%d\")"
   ]
  },
  {
   "cell_type": "code",
   "execution_count": 3,
   "id": "f106160a-e3ae-440f-8845-fb7f8d82795a",
   "metadata": {},
   "outputs": [
    {
     "ename": "PermissionError",
     "evalue": "[Errno 13] Permission denied: '/model_building.log'",
     "output_type": "error",
     "traceback": [
      "\u001b[31m---------------------------------------------------------------------------\u001b[39m",
      "\u001b[31mPermissionError\u001b[39m                           Traceback (most recent call last)",
      "\u001b[36mCell\u001b[39m\u001b[36m \u001b[39m\u001b[32mIn[3]\u001b[39m\u001b[32m, line 1\u001b[39m\n\u001b[32m----> \u001b[39m\u001b[32m1\u001b[39m \u001b[43mlogger\u001b[49m\u001b[43m.\u001b[49m\u001b[43mlog\u001b[49m\u001b[43m(\u001b[49m\u001b[33;43mf\u001b[39;49m\u001b[33;43m'\u001b[39;49m\u001b[33;43mBuilding Neural network model for churn dataset on \u001b[39;49m\u001b[38;5;132;43;01m{\u001b[39;49;00m\u001b[43mtoday\u001b[49m\u001b[38;5;132;43;01m}\u001b[39;49;00m\u001b[33;43m'\u001b[39;49m\u001b[43m)\u001b[49m\n",
      "\u001b[36mFile \u001b[39m\u001b[32m~\\Documents\\Career\\wilp\\semester-2\\DMML\\Assignment\\DMML-Assignment\\9. Model building\\logger.py:16\u001b[39m, in \u001b[36mLogger.log\u001b[39m\u001b[34m(self, message)\u001b[39m\n\u001b[32m     14\u001b[39m \u001b[38;5;28;01mdef\u001b[39;00m\u001b[38;5;250m \u001b[39m\u001b[34mlog\u001b[39m(\u001b[38;5;28mself\u001b[39m, message: \u001b[38;5;28mstr\u001b[39m):\n\u001b[32m     15\u001b[39m \u001b[38;5;250m    \u001b[39m\u001b[33;03m\"\"\"Append a log message with timestamp to the log file.\"\"\"\u001b[39;00m\n\u001b[32m---> \u001b[39m\u001b[32m16\u001b[39m     \u001b[38;5;28;01mwith\u001b[39;00m \u001b[38;5;28;43mopen\u001b[39;49m\u001b[43m(\u001b[49m\u001b[38;5;28;43mself\u001b[39;49m\u001b[43m.\u001b[49m\u001b[43mlog_file\u001b[49m\u001b[43m,\u001b[49m\u001b[43m \u001b[49m\u001b[33;43m\"\u001b[39;49m\u001b[33;43ma\u001b[39;49m\u001b[33;43m\"\u001b[39;49m\u001b[43m,\u001b[49m\u001b[43m \u001b[49m\u001b[43mencoding\u001b[49m\u001b[43m=\u001b[49m\u001b[33;43m\"\u001b[39;49m\u001b[33;43mutf-8\u001b[39;49m\u001b[33;43m\"\u001b[39;49m\u001b[43m)\u001b[49m \u001b[38;5;28;01mas\u001b[39;00m log:\n\u001b[32m     17\u001b[39m         timestamp = datetime.now().strftime(\u001b[33m\"\u001b[39m\u001b[33m%\u001b[39m\u001b[33mY-\u001b[39m\u001b[33m%\u001b[39m\u001b[33mm-\u001b[39m\u001b[38;5;132;01m%d\u001b[39;00m\u001b[33m \u001b[39m\u001b[33m%\u001b[39m\u001b[33mH:\u001b[39m\u001b[33m%\u001b[39m\u001b[33mM:\u001b[39m\u001b[33m%\u001b[39m\u001b[33mS\u001b[39m\u001b[33m\"\u001b[39m)\n\u001b[32m     18\u001b[39m         log.write(\u001b[33mf\u001b[39m\u001b[33m\"\u001b[39m\u001b[33m[\u001b[39m\u001b[38;5;132;01m{\u001b[39;00mtimestamp\u001b[38;5;132;01m}\u001b[39;00m\u001b[33m] \u001b[39m\u001b[38;5;132;01m{\u001b[39;00mmessage\u001b[38;5;132;01m}\u001b[39;00m\u001b[38;5;130;01m\\n\u001b[39;00m\u001b[33m\"\u001b[39m)\n",
      "\u001b[31mPermissionError\u001b[39m: [Errno 13] Permission denied: '/model_building.log'"
     ]
    }
   ],
   "source": [
    "logger.log(f'Building Neural network model for churn dataset on {today}')"
   ]
  },
  {
   "cell_type": "code",
   "execution_count": null,
   "id": "04c57fbc-ec5e-4dd1-80f6-29bc7af30456",
   "metadata": {},
   "outputs": [],
   "source": [
    "# Connect to SQLite and load table\n",
    "conn = sqlite3.connect(\"../feature_store.db\")\n",
    "try:\n",
    "    df = pd.read_sql(\"SELECT * FROM feature_store;\", conn)\n",
    "    logger.log('fetched data from feature_store.db')\n",
    "except:\n",
    "    logger.log('failed to read data from feature_store')\n",
    "conn.close()"
   ]
  },
  {
   "cell_type": "code",
   "execution_count": null,
   "id": "1bd8a818-116d-41ca-820a-efc1498f50c9",
   "metadata": {},
   "outputs": [],
   "source": [
    "# Drop ID column (not useful for training)\n",
    "X = df.drop(columns=[\"customerID\", \"Churn\"])\n",
    "y = df[\"Churn\"]"
   ]
  },
  {
   "cell_type": "code",
   "execution_count": null,
   "id": "72f8c58f-f825-413b-abb9-9587b08f481d",
   "metadata": {},
   "outputs": [],
   "source": [
    "# Convert X and y to numpy\n",
    "X_train, X_test, y_train, y_test = train_test_split(X, y, test_size=0.2, random_state=42)\n",
    "\n",
    "# Build NN\n",
    "model = keras.Sequential([\n",
    "    keras.layers.Dense(64, activation=\"relu\", input_shape=(X_train.shape[1],)),\n",
    "    keras.layers.Dense(32, activation=\"relu\"),\n",
    "    keras.layers.Dense(1, activation=\"sigmoid\")  # binary classification\n",
    "])\n",
    "\n",
    "model.compile(optimizer=\"adam\", loss=\"binary_crossentropy\", metrics=[\"accuracy\"])\n"
   ]
  },
  {
   "cell_type": "code",
   "execution_count": null,
   "id": "d39e583b-2771-490a-9fbe-561d967e9ae0",
   "metadata": {
    "scrolled": true
   },
   "outputs": [],
   "source": [
    "# Train\n",
    "model.fit(X_train, y_train, epochs=10, batch_size=32, validation_split=0.2, verbose=1)\n",
    "logger.log('model training completed')\n",
    "\n",
    "# Evaluate\n",
    "loss, acc = model.evaluate(X_test, y_test)\n",
    "logger.log(f'model's test accuracy: {acc}')\n",
    "print(\"Neural Network Accuracy:\", acc)"
   ]
  },
  {
   "cell_type": "code",
   "execution_count": null,
   "id": "07e615fc-956b-4006-abc4-ef7fee44adef",
   "metadata": {},
   "outputs": [],
   "source": [
    "today = datetime.today().strftime(\"%Y\\\\%m\\\\%d\")\n",
    "timestamp = datetime.today().strftime(\"%H%M\")\n",
    "\n",
    "# make directory path only\n",
    "dir_path = fr\"saved-models\\{today}\"\n",
    "os.makedirs(dir_path, exist_ok=True)\n",
    "\n",
    "# file path inside that directory\n",
    "file_path = fr\"{dir_path}\\churn_nn_{timestamp}.keras\"\n",
    "\n",
    "try:\n",
    "    model.save(file_path)\n",
    "    print(f\"Model saved at: {file_path}\")\n",
    "    logger.log(f'model succesfully saved at {file_path}')\n",
    "except:\n",
    "    logger.log('failed to save the model')\n"
   ]
  },
  {
   "cell_type": "code",
   "execution_count": null,
   "id": "6d95a0aa-ae80-4ed8-b9b4-09242d4cf556",
   "metadata": {},
   "outputs": [],
   "source": []
  }
 ],
 "metadata": {
  "kernelspec": {
   "display_name": "Python 3 (ipykernel)",
   "language": "python",
   "name": "python3"
  },
  "language_info": {
   "codemirror_mode": {
    "name": "ipython",
    "version": 3
   },
   "file_extension": ".py",
   "mimetype": "text/x-python",
   "name": "python",
   "nbconvert_exporter": "python",
   "pygments_lexer": "ipython3",
   "version": "3.13.5"
  }
 },
 "nbformat": 4,
 "nbformat_minor": 5
}
