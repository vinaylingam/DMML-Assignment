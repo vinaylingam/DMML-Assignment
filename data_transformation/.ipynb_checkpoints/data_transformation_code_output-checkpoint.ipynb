{
 "cells": [
  {
   "cell_type": "markdown",
   "id": "290d31bf",
   "metadata": {
    "tags": [
     "papermill-error-cell-tag"
    ]
   },
   "source": [
    "<span style=\"color:red; font-family:Helvetica Neue, Helvetica, Arial, sans-serif; font-size:2em;\">An Exception was encountered at '<a href=\"#papermill-error-cell\">In [1]</a>'.</span>"
   ]
  },
  {
   "cell_type": "markdown",
   "id": "d39a021b",
   "metadata": {
    "tags": [
     "papermill-error-cell-tag"
    ]
   },
   "source": [
    "<span id=\"papermill-error-cell\" style=\"color:red; font-family:Helvetica Neue, Helvetica, Arial, sans-serif; font-size:2em;\">Execution using papermill encountered an exception here and stopped:</span>"
   ]
  },
  {
   "cell_type": "code",
   "execution_count": 1,
   "id": "e5ed46ee",
   "metadata": {
    "execution": {
     "iopub.execute_input": "2025-08-24T17:17:09.219033Z",
     "iopub.status.busy": "2025-08-24T17:17:09.218821Z",
     "iopub.status.idle": "2025-08-24T17:17:10.184752Z",
     "shell.execute_reply": "2025-08-24T17:17:10.184064Z"
    },
    "papermill": {
     "duration": 0.972504,
     "end_time": "2025-08-24T17:17:10.185580",
     "exception": true,
     "start_time": "2025-08-24T17:17:09.213076",
     "status": "failed"
    },
    "tags": []
   },
   "outputs": [
    {
     "ename": "ImportError",
     "evalue": "attempted relative import with no known parent package",
     "output_type": "error",
     "traceback": [
      "\u001b[31m---------------------------------------------------------------------------\u001b[39m",
      "\u001b[31mImportError\u001b[39m                               Traceback (most recent call last)",
      "\u001b[36mCell\u001b[39m\u001b[36m \u001b[39m\u001b[32mIn[1]\u001b[39m\u001b[32m, line 4\u001b[39m\n\u001b[32m      2\u001b[39m \u001b[38;5;28;01mimport\u001b[39;00m\u001b[38;5;250m \u001b[39m\u001b[34;01mmatplotlib\u001b[39;00m\u001b[34;01m.\u001b[39;00m\u001b[34;01mpyplot\u001b[39;00m\u001b[38;5;250m \u001b[39m\u001b[38;5;28;01mas\u001b[39;00m\u001b[38;5;250m \u001b[39m\u001b[34;01mplt\u001b[39;00m\n\u001b[32m      3\u001b[39m \u001b[38;5;28;01mimport\u001b[39;00m\u001b[38;5;250m \u001b[39m\u001b[34;01mpandas\u001b[39;00m\u001b[38;5;250m \u001b[39m\u001b[38;5;28;01mas\u001b[39;00m\u001b[38;5;250m \u001b[39m\u001b[34;01mpd\u001b[39;00m\n\u001b[32m----> \u001b[39m\u001b[32m4\u001b[39m \u001b[38;5;28;01mfrom\u001b[39;00m\u001b[38;5;250m \u001b[39m\u001b[34;01m.\u001b[39;00m\u001b[34;01mlogger\u001b[39;00m\u001b[38;5;250m \u001b[39m\u001b[38;5;28;01mimport\u001b[39;00m Logger\n\u001b[32m      5\u001b[39m \u001b[38;5;28;01mfrom\u001b[39;00m\u001b[38;5;250m \u001b[39m\u001b[34;01mdatetime\u001b[39;00m\u001b[38;5;250m \u001b[39m\u001b[38;5;28;01mimport\u001b[39;00m datetime\n\u001b[32m      6\u001b[39m \u001b[38;5;28;01mimport\u001b[39;00m\u001b[38;5;250m \u001b[39m\u001b[34;01mos\u001b[39;00m\n",
      "\u001b[31mImportError\u001b[39m: attempted relative import with no known parent package"
     ]
    }
   ],
   "source": [
    "import matplotlib\n",
    "import matplotlib.pyplot as plt\n",
    "import pandas as pd\n",
    "from .logger import Logger\n",
    "from datetime import datetime\n",
    "import os\n",
    "import seaborn as sns"
   ]
  },
  {
   "cell_type": "code",
   "execution_count": null,
   "id": "9a6bc506",
   "metadata": {
    "papermill": {
     "duration": null,
     "end_time": null,
     "exception": null,
     "start_time": null,
     "status": "pending"
    },
    "tags": []
   },
   "outputs": [],
   "source": [
    "logger = Logger('../data_transformation/data_transformation_log.log')\n",
    "today = datetime.today().strftime(\"%Y\\\\%m\\\\%d\")"
   ]
  },
  {
   "cell_type": "code",
   "execution_count": null,
   "id": "6916a6b6",
   "metadata": {
    "papermill": {
     "duration": null,
     "end_time": null,
     "exception": null,
     "start_time": null,
     "status": "pending"
    },
    "tags": []
   },
   "outputs": [],
   "source": [
    "cleanedDataset_path = '..\\\\5. Data Preparation'\n",
    "csvName = 'cleaned_churn_dataset.csv'\n",
    "sources = ['HuggingFace', 'Kaggle']\n",
    "\n",
    "df_hf = pd.read_csv(os.path.join(cleanedDataset_path, sources[0], today, csvName))\n",
    "df_kg = pd.read_csv(os.path.join(cleanedDataset_path, sources[1], today, csvName))\n",
    "\n",
    "print(df_hf.shape, df_kg.shape)\n",
    "\n",
    "master_df = pd.concat([df_hf, df_kg], ignore_index=True)\n",
    "os.makedirs(os.path.join('master csv', today), exist_ok=True)\n",
    "path = os.path.join('master csv', today, \"cleaned_churn_dataset_master.csv\")\n",
    "master_df.to_csv(path, index=False)\n",
    "logger.log(f'created master csv from all the date sources at {path}')"
   ]
  },
  {
   "cell_type": "code",
   "execution_count": null,
   "id": "4fc793c6-b6b6-47b1-bb61-a0f1d2006dc9",
   "metadata": {
    "papermill": {
     "duration": null,
     "end_time": null,
     "exception": null,
     "start_time": null,
     "status": "pending"
    },
    "tags": []
   },
   "outputs": [],
   "source": [
    "df = master_df"
   ]
  },
  {
   "cell_type": "code",
   "execution_count": null,
   "id": "e60e341b-ea66-45ab-8e63-010a0625b8c5",
   "metadata": {
    "papermill": {
     "duration": null,
     "end_time": null,
     "exception": null,
     "start_time": null,
     "status": "pending"
    },
    "tags": []
   },
   "outputs": [],
   "source": [
    "df[\"TotalCharges\"] = pd.to_numeric(df[\"TotalCharges\"], errors=\"coerce\")\n",
    "\n",
    "# Fill NaN with 0 (valid since tenure=0 means no charges yet)\n",
    "df[\"TotalCharges\"] = df[\"TotalCharges\"].fillna(0)"
   ]
  },
  {
   "cell_type": "code",
   "execution_count": null,
   "id": "3e25d6c4-a9a8-4dd3-a968-a7571222520c",
   "metadata": {
    "papermill": {
     "duration": null,
     "end_time": null,
     "exception": null,
     "start_time": null,
     "status": "pending"
    },
    "tags": []
   },
   "outputs": [],
   "source": [
    "multiCategories = [\n",
    "    \"InternetService\",\n",
    "    \"MultipleLines\",\n",
    "    \"OnlineSecurity\",\n",
    "    \"OnlineBackup\",\n",
    "    \"PaperlessBilling\",\n",
    "    \"DeviceProtection\",\n",
    "    \"TechSupport\",\n",
    "    \"StreamingTV\",\n",
    "    \"StreamingMovies\",\n",
    "    \"Contract\",\n",
    "    \"PaymentMethod\"]"
   ]
  },
  {
   "cell_type": "code",
   "execution_count": null,
   "id": "8cd8e3fb",
   "metadata": {
    "papermill": {
     "duration": null,
     "end_time": null,
     "exception": null,
     "start_time": null,
     "status": "pending"
    },
    "tags": []
   },
   "outputs": [],
   "source": [
    "# Drop customerID as it is not useful\n",
    "df = df.drop(columns=[\"customerID\"])\n",
    "\n",
    "# convert gender to 0's and 1's\n",
    "df[\"gender\"] = df[\"gender\"].map({\"Female\": 0, \"Male\": 1})\n",
    "df = df.infer_objects(copy=False) \n",
    "\n",
    "# Convert binary categorical variables to numeric (Yes=1, No=0)\n",
    "binary_cols = [\"Partner\", \"Dependents\", \"PhoneService\", \"Churn\", \"PaperlessBilling\" ]\n",
    "for col in binary_cols:\n",
    "    df[col] = df[col].replace({\"Yes\": 1, \"No\": 0})\n",
    "    df = df.infer_objects(copy=False) \n",
    "\n",
    "# One-hot encode multi-category variables\n",
    "df = pd.get_dummies(df, columns=multiCategories, drop_first=False)\n",
    "\n",
    "bool_cols = df.select_dtypes(include=bool).columns\n",
    "df[bool_cols] = df[bool_cols].astype(int)\n",
    "\n",
    "# Compute correlation matrix\n",
    "correlation_matrix = df.corr()\n",
    "\n",
    "# Plot heatmap\n",
    "plt.figure(figsize=(12, 8))\n",
    "sns.heatmap(correlation_matrix, annot=False, cmap=\"coolwarm\", linewidths=0.5)\n",
    "plt.title(\"Correlation Matrix Heatmap\")\n",
    "plt.show()\n",
    "\n",
    "logger.log('data transformation completed, data is ready to use for training')\n"
   ]
  },
  {
   "cell_type": "code",
   "execution_count": null,
   "id": "15ab61e2-c427-48d5-86c3-e3cfe6301370",
   "metadata": {
    "papermill": {
     "duration": null,
     "end_time": null,
     "exception": null,
     "start_time": null,
     "status": "pending"
    },
    "tags": []
   },
   "outputs": [],
   "source": [
    "# Get correlation values\n",
    "correlation_with_churn = df.corr()[\"Churn\"].sort_values(ascending=False)\n",
    "\n",
    "# Print the correlation values\n",
    "print(correlation_with_churn)"
   ]
  },
  {
   "cell_type": "code",
   "execution_count": null,
   "id": "bff7a6b6-d5c7-4e7d-ae16-cb4458f7c22b",
   "metadata": {
    "papermill": {
     "duration": null,
     "end_time": null,
     "exception": null,
     "start_time": null,
     "status": "pending"
    },
    "tags": []
   },
   "outputs": [],
   "source": [
    "df[\"customerID\"] = master_df[\"customerID\"]\n",
    "df.to_csv(os.path.join('master csv', today, \"prepared_data.csv\"), index=False)"
   ]
  },
  {
   "cell_type": "code",
   "execution_count": null,
   "id": "9ddb1946-c793-430b-9344-8a54eab3104a",
   "metadata": {
    "papermill": {
     "duration": null,
     "end_time": null,
     "exception": null,
     "start_time": null,
     "status": "pending"
    },
    "tags": []
   },
   "outputs": [],
   "source": []
  }
 ],
 "metadata": {
  "kernelspec": {
   "display_name": "Python 3 (ipykernel)",
   "language": "python",
   "name": "python3"
  },
  "language_info": {
   "codemirror_mode": {
    "name": "ipython",
    "version": 3
   },
   "file_extension": ".py",
   "mimetype": "text/x-python",
   "name": "python",
   "nbconvert_exporter": "python",
   "pygments_lexer": "ipython3",
   "version": "3.13.5"
  },
  "papermill": {
   "default_parameters": {},
   "duration": 3.317311,
   "end_time": "2025-08-24T17:17:10.653595",
   "environment_variables": {},
   "exception": true,
   "input_path": "data_transformation/data_transformation_code.ipynb",
   "output_path": "data_transformation/data_transformation_code_output.ipynb",
   "parameters": {},
   "start_time": "2025-08-24T17:17:07.336284",
   "version": "2.6.0"
  }
 },
 "nbformat": 4,
 "nbformat_minor": 5
}