{
 "cells": [
  {
   "cell_type": "code",
   "execution_count": 1,
   "id": "5eda1c23-2da4-40e6-b260-5b561c5db088",
   "metadata": {},
   "outputs": [],
   "source": [
    "import tensorflow as tf\n",
    "from tensorflow import keras\n",
    "import sqlite3\n",
    "import pandas as pd\n",
    "from sklearn.model_selection import train_test_split\n",
    "from datetime import datetime\n",
    "import os\n",
    "from logger import Logger"
   ]
  },
  {
   "cell_type": "code",
   "execution_count": 4,
   "id": "302086f4-6b31-4496-b607-591da72ee53d",
   "metadata": {},
   "outputs": [],
   "source": [
    "logger = Logger('../9. Model Building/model_building.log')\n",
    "today = datetime.today().strftime(\"%Y\\\\%m\\\\%d\")"
   ]
  },
  {
   "cell_type": "code",
   "execution_count": 5,
   "id": "f106160a-e3ae-440f-8845-fb7f8d82795a",
   "metadata": {},
   "outputs": [],
   "source": [
    "logger.log(f'Building Neural network model for churn dataset on {today}')"
   ]
  },
  {
   "cell_type": "code",
   "execution_count": 6,
   "id": "04c57fbc-ec5e-4dd1-80f6-29bc7af30456",
   "metadata": {},
   "outputs": [],
   "source": [
    "# Connect to SQLite and load table\n",
    "conn = sqlite3.connect(\"../feature_store.db\")\n",
    "try:\n",
    "    df = pd.read_sql(\"SELECT * FROM feature_store;\", conn)\n",
    "    logger.log('fetched data from feature_store.db')\n",
    "except:\n",
    "    logger.log('failed to read data from feature_store')\n",
    "conn.close()"
   ]
  },
  {
   "cell_type": "code",
   "execution_count": 7,
   "id": "1bd8a818-116d-41ca-820a-efc1498f50c9",
   "metadata": {},
   "outputs": [],
   "source": [
    "# Drop ID column (not useful for training)\n",
    "X = df.drop(columns=[\"customerID\", \"Churn\"])\n",
    "y = df[\"Churn\"]"
   ]
  },
  {
   "cell_type": "code",
   "execution_count": 8,
   "id": "72f8c58f-f825-413b-abb9-9587b08f481d",
   "metadata": {},
   "outputs": [
    {
     "name": "stderr",
     "output_type": "stream",
     "text": [
      "C:\\Users\\91880\\AppData\\Roaming\\Python\\Python313\\site-packages\\keras\\src\\layers\\core\\dense.py:92: UserWarning: Do not pass an `input_shape`/`input_dim` argument to a layer. When using Sequential models, prefer using an `Input(shape)` object as the first layer in the model instead.\n",
      "  super().__init__(activity_regularizer=activity_regularizer, **kwargs)\n"
     ]
    }
   ],
   "source": [
    "# Convert X and y to numpy\n",
    "X_train, X_test, y_train, y_test = train_test_split(X, y, test_size=0.2, random_state=42)\n",
    "\n",
    "# Build NN\n",
    "model = keras.Sequential([\n",
    "    keras.layers.Dense(64, activation=\"relu\", input_shape=(X_train.shape[1],)),\n",
    "    keras.layers.Dense(32, activation=\"relu\"),\n",
    "    keras.layers.Dense(1, activation=\"sigmoid\")  # binary classification\n",
    "])\n",
    "\n",
    "model.compile(optimizer=\"adam\", loss=\"binary_crossentropy\", metrics=[\"accuracy\"])\n"
   ]
  },
  {
   "cell_type": "code",
   "execution_count": 10,
   "id": "d39e583b-2771-490a-9fbe-561d967e9ae0",
   "metadata": {
    "scrolled": true
   },
   "outputs": [
    {
     "name": "stdout",
     "output_type": "stream",
     "text": [
      "Epoch 1/10\n",
      "\u001b[1m231/231\u001b[0m \u001b[32m━━━━━━━━━━━━━━━━━━━━\u001b[0m\u001b[37m\u001b[0m \u001b[1m4s\u001b[0m 5ms/step - accuracy: 0.7015 - loss: 5.1546 - val_accuracy: 0.7764 - val_loss: 0.9066\n",
      "Epoch 2/10\n",
      "\u001b[1m231/231\u001b[0m \u001b[32m━━━━━━━━━━━━━━━━━━━━\u001b[0m\u001b[37m\u001b[0m \u001b[1m1s\u001b[0m 4ms/step - accuracy: 0.7309 - loss: 2.2887 - val_accuracy: 0.8078 - val_loss: 1.3687\n",
      "Epoch 3/10\n",
      "\u001b[1m231/231\u001b[0m \u001b[32m━━━━━━━━━━━━━━━━━━━━\u001b[0m\u001b[37m\u001b[0m \u001b[1m1s\u001b[0m 5ms/step - accuracy: 0.7329 - loss: 2.0556 - val_accuracy: 0.8018 - val_loss: 1.5622\n",
      "Epoch 4/10\n",
      "\u001b[1m231/231\u001b[0m \u001b[32m━━━━━━━━━━━━━━━━━━━━\u001b[0m\u001b[37m\u001b[0m \u001b[1m1s\u001b[0m 5ms/step - accuracy: 0.7428 - loss: 2.3838 - val_accuracy: 0.5696 - val_loss: 1.7189\n",
      "Epoch 5/10\n",
      "\u001b[1m231/231\u001b[0m \u001b[32m━━━━━━━━━━━━━━━━━━━━\u001b[0m\u001b[37m\u001b[0m \u001b[1m1s\u001b[0m 5ms/step - accuracy: 0.7417 - loss: 1.7426 - val_accuracy: 0.7493 - val_loss: 0.6680\n",
      "Epoch 6/10\n",
      "\u001b[1m231/231\u001b[0m \u001b[32m━━━━━━━━━━━━━━━━━━━━\u001b[0m\u001b[37m\u001b[0m \u001b[1m1s\u001b[0m 5ms/step - accuracy: 0.7460 - loss: 1.4025 - val_accuracy: 0.6215 - val_loss: 1.2229\n",
      "Epoch 7/10\n",
      "\u001b[1m231/231\u001b[0m \u001b[32m━━━━━━━━━━━━━━━━━━━━\u001b[0m\u001b[37m\u001b[0m \u001b[1m1s\u001b[0m 5ms/step - accuracy: 0.7483 - loss: 1.5984 - val_accuracy: 0.7991 - val_loss: 2.4314\n",
      "Epoch 8/10\n",
      "\u001b[1m231/231\u001b[0m \u001b[32m━━━━━━━━━━━━━━━━━━━━\u001b[0m\u001b[37m\u001b[0m \u001b[1m1s\u001b[0m 4ms/step - accuracy: 0.7552 - loss: 1.0784 - val_accuracy: 0.7753 - val_loss: 6.4822\n",
      "Epoch 9/10\n",
      "\u001b[1m231/231\u001b[0m \u001b[32m━━━━━━━━━━━━━━━━━━━━\u001b[0m\u001b[37m\u001b[0m \u001b[1m1s\u001b[0m 5ms/step - accuracy: 0.7458 - loss: 1.7905 - val_accuracy: 0.8116 - val_loss: 0.8424\n",
      "Epoch 10/10\n",
      "\u001b[1m231/231\u001b[0m \u001b[32m━━━━━━━━━━━━━━━━━━━━\u001b[0m\u001b[37m\u001b[0m \u001b[1m2s\u001b[0m 6ms/step - accuracy: 0.7494 - loss: 1.6109 - val_accuracy: 0.8083 - val_loss: 0.8137\n",
      "\u001b[1m73/73\u001b[0m \u001b[32m━━━━━━━━━━━━━━━━━━━━\u001b[0m\u001b[37m\u001b[0m \u001b[1m0s\u001b[0m 4ms/step - accuracy: 0.7977 - loss: 0.7778\n",
      "Neural Network Accuracy: 0.7977479696273804\n"
     ]
    }
   ],
   "source": [
    "# Train\n",
    "model.fit(X_train, y_train, epochs=10, batch_size=32, validation_split=0.2, verbose=1)\n",
    "logger.log('model training completed')\n",
    "\n",
    "# Evaluate\n",
    "loss, acc = model.evaluate(X_test, y_test)\n",
    "logger.log(f'models test accuracy: {acc}')\n",
    "print(\"Neural Network Accuracy:\", acc)"
   ]
  },
  {
   "cell_type": "code",
   "execution_count": 11,
   "id": "07e615fc-956b-4006-abc4-ef7fee44adef",
   "metadata": {},
   "outputs": [
    {
     "name": "stdout",
     "output_type": "stream",
     "text": [
      "Model saved at: saved-models\\2025\\08\\24\\churn_nn_1907.keras\n"
     ]
    }
   ],
   "source": [
    "today = datetime.today().strftime(\"%Y\\\\%m\\\\%d\")\n",
    "timestamp = datetime.today().strftime(\"%H%M\")\n",
    "\n",
    "# make directory path only\n",
    "dir_path = fr\"saved-models\\{today}\"\n",
    "os.makedirs(dir_path, exist_ok=True)\n",
    "\n",
    "# file path inside that directory\n",
    "file_path = fr\"{dir_path}\\churn_nn_{timestamp}.keras\"\n",
    "\n",
    "try:\n",
    "    model.save(file_path)\n",
    "    print(f\"Model saved at: {file_path}\")\n",
    "    logger.log(f'model succesfully saved at {file_path}')\n",
    "except:\n",
    "    logger.log('failed to save the model')\n"
   ]
  },
  {
   "cell_type": "code",
   "execution_count": null,
   "id": "6d95a0aa-ae80-4ed8-b9b4-09242d4cf556",
   "metadata": {},
   "outputs": [],
   "source": []
  }
 ],
 "metadata": {
  "kernelspec": {
   "display_name": "Python 3 (ipykernel)",
   "language": "python",
   "name": "python3"
  },
  "language_info": {
   "codemirror_mode": {
    "name": "ipython",
    "version": 3
   },
   "file_extension": ".py",
   "mimetype": "text/x-python",
   "name": "python",
   "nbconvert_exporter": "python",
   "pygments_lexer": "ipython3",
   "version": "3.13.5"
  }
 },
 "nbformat": 4,
 "nbformat_minor": 5
}
